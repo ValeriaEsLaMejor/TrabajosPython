{
  "nbformat": 4,
  "nbformat_minor": 0,
  "metadata": {
    "colab": {
      "name": "lista_py.ipynb",
      "provenance": [],
      "authorship_tag": "ABX9TyPX9CSkYVrsixSTDUZ0wziJ",
      "include_colab_link": true
    },
    "kernelspec": {
      "name": "python3",
      "display_name": "Python 3"
    },
    "language_info": {
      "name": "python"
    }
  },
  "cells": [
    {
      "cell_type": "markdown",
      "metadata": {
        "id": "view-in-github",
        "colab_type": "text"
      },
      "source": [
        "<a href=\"https://colab.research.google.com/github/ValeriaEsLaMejor/TrabajosPython/blob/main/lista.py.ipynb\" target=\"_parent\"><img src=\"https://colab.research.google.com/assets/colab-badge.svg\" alt=\"Open In Colab\"/></a>"
      ]
    },
    {
      "cell_type": "code",
      "metadata": {
        "colab": {
          "base_uri": "https://localhost:8080/"
        },
        "id": "xzCsB0dAA48i",
        "outputId": "845846d1-436f-4e2b-f14f-c46175292b1c"
      },
      "source": [
        "A=[4,6,8,2]\n",
        "B=[2,1,0,-1]\n",
        "\n",
        "n=len(A)//2\n",
        "[A[i]*(A[2*i]-B[2*i+1])+B[n+i] for i in range (n)]"
      ],
      "execution_count": 1,
      "outputs": [
        {
          "output_type": "execute_result",
          "data": {
            "text/plain": [
              "[12, 53]"
            ]
          },
          "metadata": {},
          "execution_count": 1
        }
      ]
    },
    {
      "cell_type": "code",
      "metadata": {
        "colab": {
          "base_uri": "https://localhost:8080/"
        },
        "id": "gWOE2CLfBFSf",
        "outputId": "07ad0523-1688-42e7-8d30-06bceafa59d4"
      },
      "source": [
        "A=[4,6,8,2]\n",
        "B=[2,1,0,-1]\n",
        "\n",
        "n=len(A)//2\n",
        "[((A[i+1])**2*B[2*i])+B[n+i] for i in range (n)]"
      ],
      "execution_count": 2,
      "outputs": [
        {
          "output_type": "execute_result",
          "data": {
            "text/plain": [
              "[72, -1]"
            ]
          },
          "metadata": {},
          "execution_count": 2
        }
      ]
    }
  ]
}