{
  "nbformat": 4,
  "nbformat_minor": 0,
  "metadata": {
    "colab": {
      "name": "sumatoria.py.ipynb",
      "provenance": [],
      "authorship_tag": "ABX9TyMtm30nx+wmn1n5DCTeglQi",
      "include_colab_link": true
    },
    "kernelspec": {
      "name": "python3",
      "display_name": "Python 3"
    },
    "language_info": {
      "name": "python"
    }
  },
  "cells": [
    {
      "cell_type": "markdown",
      "metadata": {
        "id": "view-in-github",
        "colab_type": "text"
      },
      "source": [
        "<a href=\"https://colab.research.google.com/github/ValeriaEsLaMejor/TrabajosPython/blob/main/sumatoria.py.ipynb\" target=\"_parent\"><img src=\"https://colab.research.google.com/assets/colab-badge.svg\" alt=\"Open In Colab\"/></a>"
      ]
    },
    {
      "cell_type": "code",
      "metadata": {
        "colab": {
          "base_uri": "https://localhost:8080/"
        },
        "id": "Ib8gqx5NsdDo",
        "outputId": "3d389879-f2a2-42ff-a066-b1bf13a69ab6"
      },
      "source": [
        "A=[4,6,8]\n",
        "B=[2,2,2]\n",
        "C=[1,2,3]\n",
        "\n",
        "n=len(A)\n",
        "sum ((A[i]*(B[i]+C[i]) for i in range (n)))/n"
      ],
      "execution_count": 1,
      "outputs": [
        {
          "output_type": "execute_result",
          "data": {
            "text/plain": [
              "25.333333333333332"
            ]
          },
          "metadata": {},
          "execution_count": 1
        }
      ]
    },
    {
      "cell_type": "code",
      "metadata": {
        "colab": {
          "base_uri": "https://localhost:8080/"
        },
        "id": "1vRkQaCZt_59",
        "outputId": "24670db6-9e40-41c1-c4f3-b26ebd49ae69"
      },
      "source": [
        "A=[4,6,8,2]\n",
        "B=[2,1,0,-1]\n",
        "\n",
        "n=len(A)//2\n",
        "sum(((A[i]+B[n+i])*(A[2*i]-B[2*i+1]) for i in range (n)))"
      ],
      "execution_count": 17,
      "outputs": [
        {
          "output_type": "execute_result",
          "data": {
            "text/plain": [
              "57"
            ]
          },
          "metadata": {},
          "execution_count": 17
        }
      ]
    },
    {
      "cell_type": "code",
      "metadata": {
        "colab": {
          "base_uri": "https://localhost:8080/"
        },
        "id": "5ymTeYFJ0juE",
        "outputId": "641f4df1-b51b-492d-c494-7b4f0bfc401e"
      },
      "source": [
        "A=[4,6,8]\n",
        "B=[2,2,2]\n",
        "C=[1,2,3]\n",
        "\n",
        "n=len(A)\n",
        "sum(((A[i]*B[i])+C[i]) for i in range (n))+n**2"
      ],
      "execution_count": 8,
      "outputs": [
        {
          "output_type": "execute_result",
          "data": {
            "text/plain": [
              "51"
            ]
          },
          "metadata": {},
          "execution_count": 8
        }
      ]
    }
  ]
}